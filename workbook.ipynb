{
 "cells": [
  {
   "cell_type": "code",
   "execution_count": 20,
   "metadata": {
    "collapsed": true,
    "ExecuteTime": {
     "start_time": "2023-05-22T13:23:05.503414Z",
     "end_time": "2023-05-22T13:23:05.505234Z"
    }
   },
   "outputs": [],
   "source": [
    "import pandas as pd\n",
    "import math\n",
    "import numpy as np\n",
    "Adimport matplotlib.pyplot as plt"
   ]
  },
  {
   "cell_type": "code",
   "execution_count": 24,
   "outputs": [
    {
     "name": "stderr",
     "output_type": "stream",
     "text": [
      "/var/folders/tj/yg7jf9sd6z54nrj32_wv_rp40000gn/T/ipykernel_69079/4044698582.py:1: DtypeWarning: Columns (8,9,29) have mixed types. Specify dtype option on import or set low_memory=False.\n",
      "  df = pd.read_csv(\n"
     ]
    }
   ],
   "source": [
    "df = pd.read_csv(\n",
    "    \"tennis_MatchChartingProject/charting-m-points-from-2017.csv\", encoding=\"ISO-8859-1\", )"
   ],
   "metadata": {
    "collapsed": false,
    "ExecuteTime": {
     "start_time": "2023-05-22T13:23:54.885811Z",
     "end_time": "2023-05-22T13:40:04.504497Z"
    }
   }
  },
  {
   "cell_type": "code",
   "execution_count": 22,
   "outputs": [
    {
     "name": "stdout",
     "output_type": "stream",
     "text": [
      "x1: 0.6269277779470668\n",
      "y1: 0.7209137796019767\n",
      "w1: 0.4519608739372887\n",
      "x2: 0.8957418230660326\n",
      "y2: 0.5633130699088146\n",
      "w2: 0.504583076197045\n",
      "P: 0.6402068033844248\n",
      "real P: 0.6421637836758048\n"
     ]
    }
   ],
   "source": [
    "df_fs = df[df[\"1stIn\"] == 1]\n",
    "df_ss = df[df[\"2ndIn\"] == 1]\n",
    "\n",
    "x1=df_fs.shape[0]/df.shape[0] #1st in / (number of games=number of 1st serves)\n",
    "\n",
    "y1=df_fs[df_fs[\"isSvrWinner\"]==1].shape[0]/df_fs.shape[0] #(number of games won on first serve/ (number of 1st in) )\n",
    "w1=y1*x1\n",
    "\n",
    "x2=df_ss.shape[0]/(df.shape[0]-df_fs.shape[0])\n",
    "y2=df_ss[df_ss[\"isSvrWinner\"]==1].shape[0]/df_ss.shape[0]\n",
    "w2=y2*x2\n",
    "\n",
    "p=w1+(1-x1)*w2\n",
    "\n",
    "x1_var = math.sqrt(x1*(1-x1)/df.shape[0])\n",
    "x2_var = math.sqrt(x2*(1-x2)/df.shape[0])\n",
    "y1_var = math.sqrt(y1*(1-y1)/df_fs.shape[0])\n",
    "y2_var = math.sqrt(y2*(1-y2)/df_fs.shape[0])\n",
    "# w2_var=\n",
    "print(\"x1:\", x1)\n",
    "print(\"y1:\", y1)\n",
    "print(\"w1:\", w1)\n",
    "print(\"x2:\", x2)\n",
    "print(\"y2:\", y2)\n",
    "print(\"w2:\", w2)\n",
    "print(\"P:\", p)\n",
    "print(\"real P:\", df[df[\"isSvrWinner\"]==1].shape[0]/df.shape[0])"
   ],
   "metadata": {
    "collapsed": false,
    "ExecuteTime": {
     "start_time": "2023-05-22T13:23:06.029566Z",
     "end_time": "2023-05-22T13:23:06.120456Z"
    }
   }
  },
  {
   "cell_type": "code",
   "execution_count": 23,
   "outputs": [
    {
     "name": "stdout",
     "output_type": "stream",
     "text": [
      "P using strategy 1: 0.6205749214580586\n",
      "P using strategy 2: 0.5571899878330822\n"
     ]
    }
   ],
   "source": [
    "#Demonstration of using the 1st and 2nd serve strategy twice\n",
    "p_1s=w1+(1-x1)*w1\n",
    "p_2s=w2+(1-x2)*w2\n",
    "print(\"P using strategy 1:\", p_1s) # Probability of winning using second serve strategy twice\n",
    "print(\"P using strategy 2:\", p_2s) # Probability of winning using first serve strategy twice"
   ],
   "metadata": {
    "collapsed": false,
    "ExecuteTime": {
     "start_time": "2023-05-22T13:23:06.121191Z",
     "end_time": "2023-05-22T13:23:06.124142Z"
    }
   }
  },
  {
   "cell_type": "code",
   "execution_count": 23,
   "outputs": [],
   "source": [],
   "metadata": {
    "collapsed": false,
    "ExecuteTime": {
     "start_time": "2023-05-22T13:23:06.125601Z",
     "end_time": "2023-05-22T13:23:06.127571Z"
    }
   }
  },
  {
   "cell_type": "code",
   "execution_count": 23,
   "outputs": [],
   "source": [],
   "metadata": {
    "collapsed": false,
    "ExecuteTime": {
     "start_time": "2023-05-22T13:23:06.127406Z",
     "end_time": "2023-05-22T13:23:06.129582Z"
    }
   }
  }
 ],
 "metadata": {
  "kernelspec": {
   "display_name": "Python 3",
   "language": "python",
   "name": "python3"
  },
  "language_info": {
   "codemirror_mode": {
    "name": "ipython",
    "version": 2
   },
   "file_extension": ".py",
   "mimetype": "text/x-python",
   "name": "python",
   "nbconvert_exporter": "python",
   "pygments_lexer": "ipython2",
   "version": "2.7.6"
  }
 },
 "nbformat": 4,
 "nbformat_minor": 0
}
