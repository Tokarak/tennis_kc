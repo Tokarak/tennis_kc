{
 "cells": [
  {
   "cell_type": "code",
   "execution_count": 16,
   "metadata": {
    "collapsed": true,
    "ExecuteTime": {
     "start_time": "2023-05-23T15:16:32.377438Z",
     "end_time": "2023-05-23T15:16:32.385916Z"
    }
   },
   "outputs": [],
   "source": [
    "import pandas as pd\n",
    "import math\n",
    "import get_df"
   ]
  },
  {
   "cell_type": "code",
   "execution_count": 15,
   "outputs": [
    {
     "data": {
      "text/plain": "                                              match_id  Svr  1stIn  2ndIn  \\\n0    20221123-M-Davis_Cup_Finals-QF-Marin_Cilic-Pab...    1      0    0.0   \n1    20221123-M-Davis_Cup_Finals-QF-Marin_Cilic-Pab...    1      1    NaN   \n2    20221123-M-Davis_Cup_Finals-QF-Marin_Cilic-Pab...    1      0    1.0   \n3    20221123-M-Davis_Cup_Finals-QF-Marin_Cilic-Pab...    1      1    NaN   \n4    20221123-M-Davis_Cup_Finals-QF-Marin_Cilic-Pab...    1      1    NaN   \n..                                                 ...  ...    ...    ...   \n495  20161112-W-Fed_Cup_World_Group_F-RR-Kristina_M...    2      0    1.0   \n496  20161112-W-Fed_Cup_World_Group_F-RR-Kristina_M...    2      1    NaN   \n497  20161112-W-Fed_Cup_World_Group_F-RR-Kristina_M...    2      0    0.0   \n498  20161112-W-Fed_Cup_World_Group_F-RR-Kristina_M...    2      0    1.0   \n499  20161112-W-Fed_Cup_World_Group_F-RR-Kristina_M...    2      0    1.0   \n\n     isSvrWinner  \n0              0  \n1              1  \n2              0  \n3              1  \n4              1  \n..           ...  \n495            1  \n496            1  \n497            0  \n498            0  \n499            1  \n\n[2000 rows x 5 columns]",
      "text/html": "<div>\n<style scoped>\n    .dataframe tbody tr th:only-of-type {\n        vertical-align: middle;\n    }\n\n    .dataframe tbody tr th {\n        vertical-align: top;\n    }\n\n    .dataframe thead th {\n        text-align: right;\n    }\n</style>\n<table border=\"1\" class=\"dataframe\">\n  <thead>\n    <tr style=\"text-align: right;\">\n      <th></th>\n      <th>match_id</th>\n      <th>Svr</th>\n      <th>1stIn</th>\n      <th>2ndIn</th>\n      <th>isSvrWinner</th>\n    </tr>\n  </thead>\n  <tbody>\n    <tr>\n      <th>0</th>\n      <td>20221123-M-Davis_Cup_Finals-QF-Marin_Cilic-Pab...</td>\n      <td>1</td>\n      <td>0</td>\n      <td>0.0</td>\n      <td>0</td>\n    </tr>\n    <tr>\n      <th>1</th>\n      <td>20221123-M-Davis_Cup_Finals-QF-Marin_Cilic-Pab...</td>\n      <td>1</td>\n      <td>1</td>\n      <td>NaN</td>\n      <td>1</td>\n    </tr>\n    <tr>\n      <th>2</th>\n      <td>20221123-M-Davis_Cup_Finals-QF-Marin_Cilic-Pab...</td>\n      <td>1</td>\n      <td>0</td>\n      <td>1.0</td>\n      <td>0</td>\n    </tr>\n    <tr>\n      <th>3</th>\n      <td>20221123-M-Davis_Cup_Finals-QF-Marin_Cilic-Pab...</td>\n      <td>1</td>\n      <td>1</td>\n      <td>NaN</td>\n      <td>1</td>\n    </tr>\n    <tr>\n      <th>4</th>\n      <td>20221123-M-Davis_Cup_Finals-QF-Marin_Cilic-Pab...</td>\n      <td>1</td>\n      <td>1</td>\n      <td>NaN</td>\n      <td>1</td>\n    </tr>\n    <tr>\n      <th>...</th>\n      <td>...</td>\n      <td>...</td>\n      <td>...</td>\n      <td>...</td>\n      <td>...</td>\n    </tr>\n    <tr>\n      <th>495</th>\n      <td>20161112-W-Fed_Cup_World_Group_F-RR-Kristina_M...</td>\n      <td>2</td>\n      <td>0</td>\n      <td>1.0</td>\n      <td>1</td>\n    </tr>\n    <tr>\n      <th>496</th>\n      <td>20161112-W-Fed_Cup_World_Group_F-RR-Kristina_M...</td>\n      <td>2</td>\n      <td>1</td>\n      <td>NaN</td>\n      <td>1</td>\n    </tr>\n    <tr>\n      <th>497</th>\n      <td>20161112-W-Fed_Cup_World_Group_F-RR-Kristina_M...</td>\n      <td>2</td>\n      <td>0</td>\n      <td>0.0</td>\n      <td>0</td>\n    </tr>\n    <tr>\n      <th>498</th>\n      <td>20161112-W-Fed_Cup_World_Group_F-RR-Kristina_M...</td>\n      <td>2</td>\n      <td>0</td>\n      <td>1.0</td>\n      <td>0</td>\n    </tr>\n    <tr>\n      <th>499</th>\n      <td>20161112-W-Fed_Cup_World_Group_F-RR-Kristina_M...</td>\n      <td>2</td>\n      <td>0</td>\n      <td>1.0</td>\n      <td>1</td>\n    </tr>\n  </tbody>\n</table>\n<p>2000 rows × 5 columns</p>\n</div>"
     },
     "execution_count": 15,
     "metadata": {},
     "output_type": "execute_result"
    }
   ],
   "source": [
    "df = get_df.get_df(nrows=500)[[\"match_id\", \"Svr\", \"1stIn\", \"2ndIn\", \"isSvrWinner\"]]\n",
    "df"
   ],
   "metadata": {
    "collapsed": false,
    "ExecuteTime": {
     "start_time": "2023-05-23T16:39:22.538916Z",
     "end_time": "2023-05-23T16:39:22.605852Z"
    }
   }
  },
  {
   "cell_type": "code",
   "execution_count": 3,
   "outputs": [
    {
     "name": "stdout",
     "output_type": "stream",
     "text": [
      "x1: 0.6095\n",
      "y1: 0.694011484823626\n",
      "w1: 0.42300000000000004\n",
      "x2: 0.8732394366197183\n",
      "y2: 0.5513196480938416\n",
      "w2: 0.48143405889884755\n",
      "P: 0.611\n",
      "real P: 0.611\n"
     ]
    }
   ],
   "source": [
    "df_fs = df[df[\"1stIn\"] == 1]\n",
    "df_ss = df[df[\"2ndIn\"] == 1]\n",
    "\n",
    "x1=df_fs.shape[0]/df.shape[0] #1st in / (number of games=number of 1st serves)\n",
    "\n",
    "y1=df_fs[df_fs[\"isSvrWinner\"]==1].shape[0]/df_fs.shape[0] #(number of games won on first serve/ (number of 1st in) )\n",
    "w1=y1*x1\n",
    "\n",
    "x2=df_ss.shape[0]/(df.shape[0]-df_fs.shape[0])\n",
    "y2=df_ss[df_ss[\"isSvrWinner\"]==1].shape[0]/df_ss.shape[0]\n",
    "w2=y2*x2\n",
    "\n",
    "p=w1+(1-x1)*w2\n",
    "\n",
    "x1_var = math.sqrt(x1*(1-x1)/df.shape[0])\n",
    "x2_var = math.sqrt(x2*(1-x2)/df.shape[0])\n",
    "y1_var = math.sqrt(y1*(1-y1)/df_fs.shape[0])\n",
    "y2_var = math.sqrt(y2*(1-y2)/df_fs.shape[0])\n",
    "# w2_var=\n",
    "print(\"x1:\", x1)\n",
    "print(\"y1:\", y1)\n",
    "print(\"w1:\", w1)\n",
    "print(\"x2:\", x2)\n",
    "print(\"y2:\", y2)\n",
    "print(\"w2:\", w2)\n",
    "print(\"P:\", p)\n",
    "print(\"real P:\", df[df[\"isSvrWinner\"]==1].shape[0]/df.shape[0])"
   ],
   "metadata": {
    "collapsed": false,
    "ExecuteTime": {
     "start_time": "2023-05-23T15:18:17.442030Z",
     "end_time": "2023-05-23T15:18:17.450017Z"
    }
   }
  },
  {
   "cell_type": "code",
   "execution_count": 4,
   "outputs": [
    {
     "name": "stdout",
     "output_type": "stream",
     "text": [
      "P using strategy 1: 0.5881815\n",
      "P using strategy 2: 0.5424609114353212\n"
     ]
    }
   ],
   "source": [
    "#Demonstration of using the 1st and 2nd serve strategy twice\n",
    "p_1s=w1+(1-x1)*w1\n",
    "p_2s=w2+(1-x2)*w2\n",
    "print(\"P using strategy 1:\", p_1s) # Probability of winning using second serve strategy twice\n",
    "print(\"P using strategy 2:\", p_2s) # Probability of winning using first serve strategy twice"
   ],
   "metadata": {
    "collapsed": false,
    "ExecuteTime": {
     "start_time": "2023-05-23T15:18:35.481492Z",
     "end_time": "2023-05-23T15:18:35.490735Z"
    }
   }
  },
  {
   "cell_type": "code",
   "execution_count": 19,
   "outputs": [
    {
     "data": {
      "text/plain": "                                                             x_1       x_2  \\\nmatch_id                                           Svr                       \n20161112-W-Fed_Cup_World_Group_F-RR-Kristina_Ml... 1    0.481928  0.837209   \n                                                   2    0.518987  0.763158   \n20161112-W-Fed_Cup_World_Group_F-RR-Petra_Kvito... 1    0.666667  0.652174   \n                                                   2    0.584416  0.812500   \n20161125-M-Davis_Cup_World_Group_F-RR-Ivo_Karlo... 1    0.535714  0.846154   \n                                                   2    0.772727  1.000000   \n20161126-M-Andria_CH-SF-Egor_Gerasimov-Matteo_B... 1    0.779661  0.769231   \n                                                   2    0.617647  1.000000   \n20161126-W-ITF_Valencia-SF-Jasmine_Paolini-Cris... 1    0.635417  0.914286   \n                                                   2    0.795699  0.894737   \n20161127-M-Davis_Cup_World_Group_F-RR-Marin_Cil... 1    0.606250  0.968254   \n                                                   2    0.582822  0.955882   \n20221122-M-Davis_Cup_Finals-QF-Botic_Van_De_Zan... 1    0.535714  0.923077   \n                                                   2    0.703704  0.875000   \n20221122-M-Davis_Cup_Finals-QF-Jordan_Thompson-... 1    0.611570  0.978723   \n                                                   2    0.569892  0.850000   \n20221123-M-Davis_Cup_Finals-QF-Marin_Cilic-Pabl... 1    0.472000  0.772727   \n                                                   2    0.669811  0.914286   \n20221124-W-Montevideo-R16-Brenda_Fruhvirtova-Ka... 1    0.764706  1.000000   \n                                                   2    0.666667  0.833333   \n20221126-W-Montevideo-SF-Diana_Shnaider-Kateryn... 1    0.636364  1.000000   \n                                                   2    0.693878  1.000000   \n20221127-W-Montevideo-F-Leolia_Jeanjean-Diana_S... 1    0.485294  0.800000   \n                                                   2    0.615385  1.000000   \n20221130-W-Andorra-R16-Sabine_Lisicki-Alina_Cha... 1    0.426230  0.914286   \n                                                   2    0.673469  0.562500   \n20221201-W-Andorra-R16-Cristina_Bucsa-Kateryna_... 1    0.608696  0.888889   \n                                                   2    0.754098  0.600000   \n\n                                                             y_1       y_2  \nmatch_id                                           Svr                      \n20161112-W-Fed_Cup_World_Group_F-RR-Kristina_Ml... 1    0.575000  0.638889  \n                                                   2    0.756098  0.724138  \n20161112-W-Fed_Cup_World_Group_F-RR-Petra_Kvito... 1    0.687500  0.466667  \n                                                   2    0.666667  0.692308  \n20161125-M-Davis_Cup_World_Group_F-RR-Ivo_Karlo... 1    1.000000  0.363636  \n                                                   2    0.941176  0.800000  \n20161126-M-Andria_CH-SF-Egor_Gerasimov-Matteo_B... 1    0.782609  0.800000  \n                                                   2    0.857143  0.615385  \n20161126-W-ITF_Valencia-SF-Jasmine_Paolini-Cris... 1    0.639344  0.468750  \n                                                   2    0.527027  0.529412  \n20161127-M-Davis_Cup_World_Group_F-RR-Marin_Cil... 1    0.793814  0.475410  \n                                                   2    0.800000  0.476923  \n20221122-M-Davis_Cup_Finals-QF-Botic_Van_De_Zan... 1    0.933333  0.750000  \n                                                   2    0.736842  0.857143  \n20221122-M-Davis_Cup_Finals-QF-Jordan_Thompson-... 1    0.716216  0.500000  \n                                                   2    0.698113  0.588235  \n20221123-M-Davis_Cup_Finals-QF-Marin_Cilic-Pabl... 1    0.830508  0.529412  \n                                                   2    0.633803  0.593750  \n20221124-W-Montevideo-R16-Brenda_Fruhvirtova-Ka... 1    0.461538  0.500000  \n                                                   2    0.416667  0.600000  \n20221126-W-Montevideo-SF-Diana_Shnaider-Kateryn... 1    0.714286  0.458333  \n                                                   2    0.470588  0.466667  \n20221127-W-Montevideo-F-Leolia_Jeanjean-Diana_S... 1    0.636364  0.500000  \n                                                   2    0.600000  0.520000  \n20221130-W-Andorra-R16-Sabine_Lisicki-Alina_Cha... 1    0.730769  0.656250  \n                                                   2    0.515152  0.444444  \n20221201-W-Andorra-R16-Cristina_Bucsa-Kateryna_... 1    0.750000  0.562500  \n                                                   2    0.521739  0.333333  ",
      "text/html": "<div>\n<style scoped>\n    .dataframe tbody tr th:only-of-type {\n        vertical-align: middle;\n    }\n\n    .dataframe tbody tr th {\n        vertical-align: top;\n    }\n\n    .dataframe thead th {\n        text-align: right;\n    }\n</style>\n<table border=\"1\" class=\"dataframe\">\n  <thead>\n    <tr style=\"text-align: right;\">\n      <th></th>\n      <th></th>\n      <th>x_1</th>\n      <th>x_2</th>\n      <th>y_1</th>\n      <th>y_2</th>\n    </tr>\n    <tr>\n      <th>match_id</th>\n      <th>Svr</th>\n      <th></th>\n      <th></th>\n      <th></th>\n      <th></th>\n    </tr>\n  </thead>\n  <tbody>\n    <tr>\n      <th rowspan=\"2\" valign=\"top\">20161112-W-Fed_Cup_World_Group_F-RR-Kristina_Mladenovic-Karolina_Pliskova</th>\n      <th>1</th>\n      <td>0.481928</td>\n      <td>0.837209</td>\n      <td>0.575000</td>\n      <td>0.638889</td>\n    </tr>\n    <tr>\n      <th>2</th>\n      <td>0.518987</td>\n      <td>0.763158</td>\n      <td>0.756098</td>\n      <td>0.724138</td>\n    </tr>\n    <tr>\n      <th rowspan=\"2\" valign=\"top\">20161112-W-Fed_Cup_World_Group_F-RR-Petra_Kvitova-Caroline_Garcia</th>\n      <th>1</th>\n      <td>0.666667</td>\n      <td>0.652174</td>\n      <td>0.687500</td>\n      <td>0.466667</td>\n    </tr>\n    <tr>\n      <th>2</th>\n      <td>0.584416</td>\n      <td>0.812500</td>\n      <td>0.666667</td>\n      <td>0.692308</td>\n    </tr>\n    <tr>\n      <th rowspan=\"2\" valign=\"top\">20161125-M-Davis_Cup_World_Group_F-RR-Ivo_Karlovic-Juan_Martin_Del_Potro</th>\n      <th>1</th>\n      <td>0.535714</td>\n      <td>0.846154</td>\n      <td>1.000000</td>\n      <td>0.363636</td>\n    </tr>\n    <tr>\n      <th>2</th>\n      <td>0.772727</td>\n      <td>1.000000</td>\n      <td>0.941176</td>\n      <td>0.800000</td>\n    </tr>\n    <tr>\n      <th rowspan=\"2\" valign=\"top\">20161126-M-Andria_CH-SF-Egor_Gerasimov-Matteo_Berrettini</th>\n      <th>1</th>\n      <td>0.779661</td>\n      <td>0.769231</td>\n      <td>0.782609</td>\n      <td>0.800000</td>\n    </tr>\n    <tr>\n      <th>2</th>\n      <td>0.617647</td>\n      <td>1.000000</td>\n      <td>0.857143</td>\n      <td>0.615385</td>\n    </tr>\n    <tr>\n      <th rowspan=\"2\" valign=\"top\">20161126-W-ITF_Valencia-SF-Jasmine_Paolini-Cristina_Bucsa</th>\n      <th>1</th>\n      <td>0.635417</td>\n      <td>0.914286</td>\n      <td>0.639344</td>\n      <td>0.468750</td>\n    </tr>\n    <tr>\n      <th>2</th>\n      <td>0.795699</td>\n      <td>0.894737</td>\n      <td>0.527027</td>\n      <td>0.529412</td>\n    </tr>\n    <tr>\n      <th rowspan=\"2\" valign=\"top\">20161127-M-Davis_Cup_World_Group_F-RR-Marin_Cilic-Juan_Martin_Del_Potro</th>\n      <th>1</th>\n      <td>0.606250</td>\n      <td>0.968254</td>\n      <td>0.793814</td>\n      <td>0.475410</td>\n    </tr>\n    <tr>\n      <th>2</th>\n      <td>0.582822</td>\n      <td>0.955882</td>\n      <td>0.800000</td>\n      <td>0.476923</td>\n    </tr>\n    <tr>\n      <th rowspan=\"2\" valign=\"top\">20221122-M-Davis_Cup_Finals-QF-Botic_Van_De_Zandschulp-Alex_De_Minaur</th>\n      <th>1</th>\n      <td>0.535714</td>\n      <td>0.923077</td>\n      <td>0.933333</td>\n      <td>0.750000</td>\n    </tr>\n    <tr>\n      <th>2</th>\n      <td>0.703704</td>\n      <td>0.875000</td>\n      <td>0.736842</td>\n      <td>0.857143</td>\n    </tr>\n    <tr>\n      <th rowspan=\"2\" valign=\"top\">20221122-M-Davis_Cup_Finals-QF-Jordan_Thompson-Tallon_Griekspoor</th>\n      <th>1</th>\n      <td>0.611570</td>\n      <td>0.978723</td>\n      <td>0.716216</td>\n      <td>0.500000</td>\n    </tr>\n    <tr>\n      <th>2</th>\n      <td>0.569892</td>\n      <td>0.850000</td>\n      <td>0.698113</td>\n      <td>0.588235</td>\n    </tr>\n    <tr>\n      <th rowspan=\"2\" valign=\"top\">20221123-M-Davis_Cup_Finals-QF-Marin_Cilic-Pablo_Carreno_Busta</th>\n      <th>1</th>\n      <td>0.472000</td>\n      <td>0.772727</td>\n      <td>0.830508</td>\n      <td>0.529412</td>\n    </tr>\n    <tr>\n      <th>2</th>\n      <td>0.669811</td>\n      <td>0.914286</td>\n      <td>0.633803</td>\n      <td>0.593750</td>\n    </tr>\n    <tr>\n      <th rowspan=\"2\" valign=\"top\">20221124-W-Montevideo-R16-Brenda_Fruhvirtova-Kateryna_Baindl</th>\n      <th>1</th>\n      <td>0.764706</td>\n      <td>1.000000</td>\n      <td>0.461538</td>\n      <td>0.500000</td>\n    </tr>\n    <tr>\n      <th>2</th>\n      <td>0.666667</td>\n      <td>0.833333</td>\n      <td>0.416667</td>\n      <td>0.600000</td>\n    </tr>\n    <tr>\n      <th rowspan=\"2\" valign=\"top\">20221126-W-Montevideo-SF-Diana_Shnaider-Kateryna_Baindl</th>\n      <th>1</th>\n      <td>0.636364</td>\n      <td>1.000000</td>\n      <td>0.714286</td>\n      <td>0.458333</td>\n    </tr>\n    <tr>\n      <th>2</th>\n      <td>0.693878</td>\n      <td>1.000000</td>\n      <td>0.470588</td>\n      <td>0.466667</td>\n    </tr>\n    <tr>\n      <th rowspan=\"2\" valign=\"top\">20221127-W-Montevideo-F-Leolia_Jeanjean-Diana_Shnaider</th>\n      <th>1</th>\n      <td>0.485294</td>\n      <td>0.800000</td>\n      <td>0.636364</td>\n      <td>0.500000</td>\n    </tr>\n    <tr>\n      <th>2</th>\n      <td>0.615385</td>\n      <td>1.000000</td>\n      <td>0.600000</td>\n      <td>0.520000</td>\n    </tr>\n    <tr>\n      <th rowspan=\"2\" valign=\"top\">20221130-W-Andorra-R16-Sabine_Lisicki-Alina_Charaeva</th>\n      <th>1</th>\n      <td>0.426230</td>\n      <td>0.914286</td>\n      <td>0.730769</td>\n      <td>0.656250</td>\n    </tr>\n    <tr>\n      <th>2</th>\n      <td>0.673469</td>\n      <td>0.562500</td>\n      <td>0.515152</td>\n      <td>0.444444</td>\n    </tr>\n    <tr>\n      <th rowspan=\"2\" valign=\"top\">20221201-W-Andorra-R16-Cristina_Bucsa-Kateryna_Baindl</th>\n      <th>1</th>\n      <td>0.608696</td>\n      <td>0.888889</td>\n      <td>0.750000</td>\n      <td>0.562500</td>\n    </tr>\n    <tr>\n      <th>2</th>\n      <td>0.754098</td>\n      <td>0.600000</td>\n      <td>0.521739</td>\n      <td>0.333333</td>\n    </tr>\n  </tbody>\n</table>\n</div>"
     },
     "execution_count": 19,
     "metadata": {},
     "output_type": "execute_result"
    }
   ],
   "source": [
    "# average of values by game\n",
    "\n",
    "df_by_match = df.groupby([\"match_id\", \"Svr\"])\n",
    "serve_stats = df_by_match.agg(x_1=(\"1stIn\", \"mean\"), x_2=(\"2ndIn\", \"mean\"))\n",
    "serve_stats[\"y_1\"] = df_by_match.apply(lambda x: x[x[\"1stIn\"]==1][\"isSvrWinner\"].mean())\n",
    "serve_stats[\"y_2\"] = df_by_match.apply(lambda x: x[x[\"2ndIn\"]==1][\"isSvrWinner\"].mean())\n",
    "\n",
    "serve_stats[\"w_1\"] = serve_stats[\"x_1\"]*serve_stats[\"y_1\"]\n",
    "serve_stats[\"w_2\"] = serve_stats[\"x_2\"]*serve_stats[\"y_2\"]\n",
    "\n",
    "serve_stats\n",
    "\n"
   ],
   "metadata": {
    "collapsed": false,
    "ExecuteTime": {
     "start_time": "2023-05-23T16:46:39.772374Z",
     "end_time": "2023-05-23T16:46:39.815146Z"
    }
   }
  },
  {
   "cell_type": "code",
   "execution_count": null,
   "outputs": [],
   "source": [],
   "metadata": {
    "collapsed": false
   }
  }
 ],
 "metadata": {
  "kernelspec": {
   "display_name": "Python 3",
   "language": "python",
   "name": "python3"
  },
  "language_info": {
   "codemirror_mode": {
    "name": "ipython",
    "version": 2
   },
   "file_extension": ".py",
   "mimetype": "text/x-python",
   "name": "python",
   "nbconvert_exporter": "python",
   "pygments_lexer": "ipython2",
   "version": "2.7.6"
  }
 },
 "nbformat": 4,
 "nbformat_minor": 0
}
