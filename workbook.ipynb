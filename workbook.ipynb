{
 "cells": [
  {
   "cell_type": "code",
   "execution_count": 1,
   "metadata": {
    "collapsed": true,
    "ExecuteTime": {
     "end_time": "2023-05-25T09:40:01.794171Z",
     "start_time": "2023-05-25T09:40:01.490146Z"
    }
   },
   "outputs": [],
   "source": [
    "import pandas as pd\n",
    "import math\n",
    "import get_df"
   ]
  },
  {
   "cell_type": "code",
   "execution_count": 2,
   "outputs": [
    {
     "data": {
      "text/plain": "                                             match_id  Svr  1stIn  2ndIn  \\\n0   20221123-M-Davis_Cup_Finals-QF-Marin_Cilic-Pab...    1      0    0.0   \n1   20221123-M-Davis_Cup_Finals-QF-Marin_Cilic-Pab...    1      1    NaN   \n2   20221123-M-Davis_Cup_Finals-QF-Marin_Cilic-Pab...    1      0    1.0   \n3   20221123-M-Davis_Cup_Finals-QF-Marin_Cilic-Pab...    1      1    NaN   \n4   20221123-M-Davis_Cup_Finals-QF-Marin_Cilic-Pab...    1      1    NaN   \n..                                                ...  ...    ...    ...   \n75  20161126-W-ITF_Valencia-SF-Jasmine_Paolini-Cri...    2      1    NaN   \n76  20161126-W-ITF_Valencia-SF-Jasmine_Paolini-Cri...    1      1    NaN   \n77  20161126-W-ITF_Valencia-SF-Jasmine_Paolini-Cri...    1      1    NaN   \n78  20161126-W-ITF_Valencia-SF-Jasmine_Paolini-Cri...    1      1    NaN   \n79  20161126-W-ITF_Valencia-SF-Jasmine_Paolini-Cri...    1      1    NaN   \n\n    isSvrWinner  \n0             0  \n1             1  \n2             0  \n3             1  \n4             1  \n..          ...  \n75            1  \n76            0  \n77            1  \n78            0  \n79            0  \n\n[320 rows x 5 columns]",
      "text/html": "<div>\n<style scoped>\n    .dataframe tbody tr th:only-of-type {\n        vertical-align: middle;\n    }\n\n    .dataframe tbody tr th {\n        vertical-align: top;\n    }\n\n    .dataframe thead th {\n        text-align: right;\n    }\n</style>\n<table border=\"1\" class=\"dataframe\">\n  <thead>\n    <tr style=\"text-align: right;\">\n      <th></th>\n      <th>match_id</th>\n      <th>Svr</th>\n      <th>1stIn</th>\n      <th>2ndIn</th>\n      <th>isSvrWinner</th>\n    </tr>\n  </thead>\n  <tbody>\n    <tr>\n      <th>0</th>\n      <td>20221123-M-Davis_Cup_Finals-QF-Marin_Cilic-Pab...</td>\n      <td>1</td>\n      <td>0</td>\n      <td>0.0</td>\n      <td>0</td>\n    </tr>\n    <tr>\n      <th>1</th>\n      <td>20221123-M-Davis_Cup_Finals-QF-Marin_Cilic-Pab...</td>\n      <td>1</td>\n      <td>1</td>\n      <td>NaN</td>\n      <td>1</td>\n    </tr>\n    <tr>\n      <th>2</th>\n      <td>20221123-M-Davis_Cup_Finals-QF-Marin_Cilic-Pab...</td>\n      <td>1</td>\n      <td>0</td>\n      <td>1.0</td>\n      <td>0</td>\n    </tr>\n    <tr>\n      <th>3</th>\n      <td>20221123-M-Davis_Cup_Finals-QF-Marin_Cilic-Pab...</td>\n      <td>1</td>\n      <td>1</td>\n      <td>NaN</td>\n      <td>1</td>\n    </tr>\n    <tr>\n      <th>4</th>\n      <td>20221123-M-Davis_Cup_Finals-QF-Marin_Cilic-Pab...</td>\n      <td>1</td>\n      <td>1</td>\n      <td>NaN</td>\n      <td>1</td>\n    </tr>\n    <tr>\n      <th>...</th>\n      <td>...</td>\n      <td>...</td>\n      <td>...</td>\n      <td>...</td>\n      <td>...</td>\n    </tr>\n    <tr>\n      <th>75</th>\n      <td>20161126-W-ITF_Valencia-SF-Jasmine_Paolini-Cri...</td>\n      <td>2</td>\n      <td>1</td>\n      <td>NaN</td>\n      <td>1</td>\n    </tr>\n    <tr>\n      <th>76</th>\n      <td>20161126-W-ITF_Valencia-SF-Jasmine_Paolini-Cri...</td>\n      <td>1</td>\n      <td>1</td>\n      <td>NaN</td>\n      <td>0</td>\n    </tr>\n    <tr>\n      <th>77</th>\n      <td>20161126-W-ITF_Valencia-SF-Jasmine_Paolini-Cri...</td>\n      <td>1</td>\n      <td>1</td>\n      <td>NaN</td>\n      <td>1</td>\n    </tr>\n    <tr>\n      <th>78</th>\n      <td>20161126-W-ITF_Valencia-SF-Jasmine_Paolini-Cri...</td>\n      <td>1</td>\n      <td>1</td>\n      <td>NaN</td>\n      <td>0</td>\n    </tr>\n    <tr>\n      <th>79</th>\n      <td>20161126-W-ITF_Valencia-SF-Jasmine_Paolini-Cri...</td>\n      <td>1</td>\n      <td>1</td>\n      <td>NaN</td>\n      <td>0</td>\n    </tr>\n  </tbody>\n</table>\n<p>320 rows × 5 columns</p>\n</div>"
     },
     "execution_count": 2,
     "metadata": {},
     "output_type": "execute_result"
    }
   ],
   "source": [
    "df = get_df.get_df(nrows=80)[[\"match_id\", \"Svr\", \"1stIn\", \"2ndIn\", \"isSvrWinner\"]]\n",
    "df"
   ],
   "metadata": {
    "collapsed": false,
    "ExecuteTime": {
     "end_time": "2023-05-25T09:40:01.822098Z",
     "start_time": "2023-05-25T09:40:01.794627Z"
    }
   }
  },
  {
   "cell_type": "code",
   "execution_count": 3,
   "outputs": [
    {
     "name": "stdout",
     "output_type": "stream",
     "text": [
      "x1: 0.6625\n",
      "y1: 0.6745283018867925\n",
      "w1: 0.446875\n",
      "x2: 0.8703703703703703\n",
      "y2: 0.46808510638297873\n",
      "w2: 0.4074074074074074\n",
      "P: 0.5843750000000001\n",
      "real P: 0.584375\n"
     ]
    }
   ],
   "source": [
    "df_fs = df[df[\"1stIn\"] == 1]\n",
    "df_ss = df[df[\"2ndIn\"] == 1]\n",
    "\n",
    "x1=df_fs.shape[0]/df.shape[0] #1st in / (number of games=number of 1st serves)\n",
    "\n",
    "y1=df_fs[df_fs[\"isSvrWinner\"]==1].shape[0]/df_fs.shape[0] #(number of games won on first serve/ (number of 1st in) )\n",
    "w1=y1*x1\n",
    "\n",
    "x2=df_ss.shape[0]/(df.shape[0]-df_fs.shape[0])\n",
    "y2=df_ss[df_ss[\"isSvrWinner\"]==1].shape[0]/df_ss.shape[0]\n",
    "w2=y2*x2\n",
    "\n",
    "p=w1+(1-x1)*w2\n",
    "\n",
    "x1_var = math.sqrt(x1*(1-x1)/df.shape[0])\n",
    "x2_var = math.sqrt(x2*(1-x2)/df.shape[0])\n",
    "y1_var = math.sqrt(y1*(1-y1)/df_fs.shape[0])\n",
    "y2_var = math.sqrt(y2*(1-y2)/df_fs.shape[0])\n",
    "# w2_var=\n",
    "print(\"x1:\", x1)\n",
    "print(\"y1:\", y1)\n",
    "print(\"w1:\", w1)\n",
    "print(\"x2:\", x2)\n",
    "print(\"y2:\", y2)\n",
    "print(\"w2:\", w2)\n",
    "print(\"P:\", p)\n",
    "print(\"real P:\", df[df[\"isSvrWinner\"]==1].shape[0]/df.shape[0])"
   ],
   "metadata": {
    "collapsed": false,
    "ExecuteTime": {
     "end_time": "2023-05-25T09:40:01.828834Z",
     "start_time": "2023-05-25T09:40:01.821284Z"
    }
   }
  },
  {
   "cell_type": "code",
   "execution_count": 4,
   "outputs": [
    {
     "name": "stdout",
     "output_type": "stream",
     "text": [
      "P using strategy 1: 0.5976953125000001\n",
      "P using strategy 2: 0.46021947873799723\n"
     ]
    }
   ],
   "source": [
    "#Demonstration of using the 1st and 2nd serve strategy twice\n",
    "p_1s=w1+(1-x1)*w1\n",
    "p_2s=w2+(1-x2)*w2\n",
    "print(\"P using strategy 1:\", p_1s) # Probability of winning using second serve strategy twice\n",
    "print(\"P using strategy 2:\", p_2s) # Probability of winning using first serve strategy twice"
   ],
   "metadata": {
    "collapsed": false,
    "ExecuteTime": {
     "end_time": "2023-05-25T09:40:01.829361Z",
     "start_time": "2023-05-25T09:40:01.822392Z"
    }
   }
  },
  {
   "cell_type": "code",
   "execution_count": 5,
   "outputs": [
    {
     "data": {
      "text/plain": "                                                             x_1       x_2  \\\nmatch_id                                           Svr                       \n20161126-W-ITF_Valencia-SF-Jasmine_Paolini-Cris... 1    0.608696  0.944444   \n                                                   2    0.823529  0.833333   \n20161127-M-Davis_Cup_World_Group_F-RR-Marin_Cil... 1    0.666667  1.000000   \n                                                   2    0.656250  1.000000   \n20221123-M-Davis_Cup_Finals-QF-Marin_Cilic-Pabl... 1    0.480769  0.740741   \n                                                   2    0.750000  0.857143   \n20221201-W-Andorra-R16-Cristina_Bucsa-Kateryna_... 1    0.605263  0.866667   \n                                                   2    0.809524  0.750000   \n\n                                                             y_1       y_2  \\\nmatch_id                                           Svr                       \n20161126-W-ITF_Valencia-SF-Jasmine_Paolini-Cris... 1    0.500000  0.470588   \n                                                   2    0.642857  0.800000   \n20161127-M-Davis_Cup_World_Group_F-RR-Marin_Cil... 1    0.812500  0.375000   \n                                                   2    0.761905  0.545455   \n20221123-M-Davis_Cup_Finals-QF-Marin_Cilic-Pabl... 1    0.800000  0.350000   \n                                                   2    0.666667  0.833333   \n20221201-W-Andorra-R16-Cristina_Bucsa-Kateryna_... 1    0.695652  0.461538   \n                                                   2    0.558824  0.333333   \n\n                                                             w_1       w_2  \nmatch_id                                           Svr                      \n20161126-W-ITF_Valencia-SF-Jasmine_Paolini-Cris... 1    0.304348  0.444444  \n                                                   2    0.529412  0.666667  \n20161127-M-Davis_Cup_World_Group_F-RR-Marin_Cil... 1    0.541667  0.375000  \n                                                   2    0.500000  0.545455  \n20221123-M-Davis_Cup_Finals-QF-Marin_Cilic-Pabl... 1    0.384615  0.259259  \n                                                   2    0.500000  0.714286  \n20221201-W-Andorra-R16-Cristina_Bucsa-Kateryna_... 1    0.421053  0.400000  \n                                                   2    0.452381  0.250000  ",
      "text/html": "<div>\n<style scoped>\n    .dataframe tbody tr th:only-of-type {\n        vertical-align: middle;\n    }\n\n    .dataframe tbody tr th {\n        vertical-align: top;\n    }\n\n    .dataframe thead th {\n        text-align: right;\n    }\n</style>\n<table border=\"1\" class=\"dataframe\">\n  <thead>\n    <tr style=\"text-align: right;\">\n      <th></th>\n      <th></th>\n      <th>x_1</th>\n      <th>x_2</th>\n      <th>y_1</th>\n      <th>y_2</th>\n      <th>w_1</th>\n      <th>w_2</th>\n    </tr>\n    <tr>\n      <th>match_id</th>\n      <th>Svr</th>\n      <th></th>\n      <th></th>\n      <th></th>\n      <th></th>\n      <th></th>\n      <th></th>\n    </tr>\n  </thead>\n  <tbody>\n    <tr>\n      <th rowspan=\"2\" valign=\"top\">20161126-W-ITF_Valencia-SF-Jasmine_Paolini-Cristina_Bucsa</th>\n      <th>1</th>\n      <td>0.608696</td>\n      <td>0.944444</td>\n      <td>0.500000</td>\n      <td>0.470588</td>\n      <td>0.304348</td>\n      <td>0.444444</td>\n    </tr>\n    <tr>\n      <th>2</th>\n      <td>0.823529</td>\n      <td>0.833333</td>\n      <td>0.642857</td>\n      <td>0.800000</td>\n      <td>0.529412</td>\n      <td>0.666667</td>\n    </tr>\n    <tr>\n      <th rowspan=\"2\" valign=\"top\">20161127-M-Davis_Cup_World_Group_F-RR-Marin_Cilic-Juan_Martin_Del_Potro</th>\n      <th>1</th>\n      <td>0.666667</td>\n      <td>1.000000</td>\n      <td>0.812500</td>\n      <td>0.375000</td>\n      <td>0.541667</td>\n      <td>0.375000</td>\n    </tr>\n    <tr>\n      <th>2</th>\n      <td>0.656250</td>\n      <td>1.000000</td>\n      <td>0.761905</td>\n      <td>0.545455</td>\n      <td>0.500000</td>\n      <td>0.545455</td>\n    </tr>\n    <tr>\n      <th rowspan=\"2\" valign=\"top\">20221123-M-Davis_Cup_Finals-QF-Marin_Cilic-Pablo_Carreno_Busta</th>\n      <th>1</th>\n      <td>0.480769</td>\n      <td>0.740741</td>\n      <td>0.800000</td>\n      <td>0.350000</td>\n      <td>0.384615</td>\n      <td>0.259259</td>\n    </tr>\n    <tr>\n      <th>2</th>\n      <td>0.750000</td>\n      <td>0.857143</td>\n      <td>0.666667</td>\n      <td>0.833333</td>\n      <td>0.500000</td>\n      <td>0.714286</td>\n    </tr>\n    <tr>\n      <th rowspan=\"2\" valign=\"top\">20221201-W-Andorra-R16-Cristina_Bucsa-Kateryna_Baindl</th>\n      <th>1</th>\n      <td>0.605263</td>\n      <td>0.866667</td>\n      <td>0.695652</td>\n      <td>0.461538</td>\n      <td>0.421053</td>\n      <td>0.400000</td>\n    </tr>\n    <tr>\n      <th>2</th>\n      <td>0.809524</td>\n      <td>0.750000</td>\n      <td>0.558824</td>\n      <td>0.333333</td>\n      <td>0.452381</td>\n      <td>0.250000</td>\n    </tr>\n  </tbody>\n</table>\n</div>"
     },
     "execution_count": 5,
     "metadata": {},
     "output_type": "execute_result"
    }
   ],
   "source": [
    "# average of values by game\n",
    "\n",
    "df_by_match = df.groupby([\"match_id\", \"Svr\"])\n",
    "serve_stats = df_by_match.agg(x_1=(\"1stIn\", \"mean\"), x_2=(\"2ndIn\", \"mean\"))\n",
    "serve_stats[\"y_1\"] = df_by_match.apply(lambda x: x[x[\"1stIn\"]==1][\"isSvrWinner\"].mean())\n",
    "serve_stats[\"y_2\"] = df_by_match.apply(lambda x: x[x[\"2ndIn\"]==1][\"isSvrWinner\"].mean())\n",
    "\n",
    "serve_stats[\"w_1\"] = serve_stats[\"x_1\"]*serve_stats[\"y_1\"]\n",
    "serve_stats[\"w_2\"] = serve_stats[\"x_2\"]*serve_stats[\"y_2\"]\n",
    "\n",
    "serve_stats\n",
    "\n"
   ],
   "metadata": {
    "collapsed": false,
    "ExecuteTime": {
     "end_time": "2023-05-25T09:40:01.896209Z",
     "start_time": "2023-05-25T09:40:01.836176Z"
    }
   }
  },
  {
   "cell_type": "code",
   "execution_count": 6,
   "outputs": [
    {
     "data": {
      "text/plain": "                                                                     x  \\\n      match_id                                           Svr             \nsrv_1 20161126-W-ITF_Valencia-SF-Jasmine_Paolini-Cris... 1    0.608696   \n                                                         2    0.823529   \n      20161127-M-Davis_Cup_World_Group_F-RR-Marin_Cil... 1    0.666667   \n                                                         2    0.656250   \n      20221123-M-Davis_Cup_Finals-QF-Marin_Cilic-Pabl... 1    0.480769   \n                                                         2    0.750000   \n      20221201-W-Andorra-R16-Cristina_Bucsa-Kateryna_... 1    0.605263   \n                                                         2    0.809524   \nsrv_2 20161126-W-ITF_Valencia-SF-Jasmine_Paolini-Cris... 1    0.944444   \n                                                         2    0.833333   \n      20161127-M-Davis_Cup_World_Group_F-RR-Marin_Cil... 1    1.000000   \n                                                         2    1.000000   \n      20221123-M-Davis_Cup_Finals-QF-Marin_Cilic-Pabl... 1    0.740741   \n                                                         2    0.857143   \n      20221201-W-Andorra-R16-Cristina_Bucsa-Kateryna_... 1    0.866667   \n                                                         2    0.750000   \n\n                                                                     y  \n      match_id                                           Svr            \nsrv_1 20161126-W-ITF_Valencia-SF-Jasmine_Paolini-Cris... 1    0.500000  \n                                                         2    0.642857  \n      20161127-M-Davis_Cup_World_Group_F-RR-Marin_Cil... 1    0.812500  \n                                                         2    0.761905  \n      20221123-M-Davis_Cup_Finals-QF-Marin_Cilic-Pabl... 1    0.800000  \n                                                         2    0.666667  \n      20221201-W-Andorra-R16-Cristina_Bucsa-Kateryna_... 1    0.695652  \n                                                         2    0.558824  \nsrv_2 20161126-W-ITF_Valencia-SF-Jasmine_Paolini-Cris... 1    0.470588  \n                                                         2    0.800000  \n      20161127-M-Davis_Cup_World_Group_F-RR-Marin_Cil... 1    0.375000  \n                                                         2    0.545455  \n      20221123-M-Davis_Cup_Finals-QF-Marin_Cilic-Pabl... 1    0.350000  \n                                                         2    0.833333  \n      20221201-W-Andorra-R16-Cristina_Bucsa-Kateryna_... 1    0.461538  \n                                                         2    0.333333  ",
      "text/html": "<div>\n<style scoped>\n    .dataframe tbody tr th:only-of-type {\n        vertical-align: middle;\n    }\n\n    .dataframe tbody tr th {\n        vertical-align: top;\n    }\n\n    .dataframe thead th {\n        text-align: right;\n    }\n</style>\n<table border=\"1\" class=\"dataframe\">\n  <thead>\n    <tr style=\"text-align: right;\">\n      <th></th>\n      <th></th>\n      <th></th>\n      <th>x</th>\n      <th>y</th>\n    </tr>\n    <tr>\n      <th></th>\n      <th>match_id</th>\n      <th>Svr</th>\n      <th></th>\n      <th></th>\n    </tr>\n  </thead>\n  <tbody>\n    <tr>\n      <th rowspan=\"8\" valign=\"top\">srv_1</th>\n      <th rowspan=\"2\" valign=\"top\">20161126-W-ITF_Valencia-SF-Jasmine_Paolini-Cristina_Bucsa</th>\n      <th>1</th>\n      <td>0.608696</td>\n      <td>0.500000</td>\n    </tr>\n    <tr>\n      <th>2</th>\n      <td>0.823529</td>\n      <td>0.642857</td>\n    </tr>\n    <tr>\n      <th rowspan=\"2\" valign=\"top\">20161127-M-Davis_Cup_World_Group_F-RR-Marin_Cilic-Juan_Martin_Del_Potro</th>\n      <th>1</th>\n      <td>0.666667</td>\n      <td>0.812500</td>\n    </tr>\n    <tr>\n      <th>2</th>\n      <td>0.656250</td>\n      <td>0.761905</td>\n    </tr>\n    <tr>\n      <th rowspan=\"2\" valign=\"top\">20221123-M-Davis_Cup_Finals-QF-Marin_Cilic-Pablo_Carreno_Busta</th>\n      <th>1</th>\n      <td>0.480769</td>\n      <td>0.800000</td>\n    </tr>\n    <tr>\n      <th>2</th>\n      <td>0.750000</td>\n      <td>0.666667</td>\n    </tr>\n    <tr>\n      <th rowspan=\"2\" valign=\"top\">20221201-W-Andorra-R16-Cristina_Bucsa-Kateryna_Baindl</th>\n      <th>1</th>\n      <td>0.605263</td>\n      <td>0.695652</td>\n    </tr>\n    <tr>\n      <th>2</th>\n      <td>0.809524</td>\n      <td>0.558824</td>\n    </tr>\n    <tr>\n      <th rowspan=\"8\" valign=\"top\">srv_2</th>\n      <th rowspan=\"2\" valign=\"top\">20161126-W-ITF_Valencia-SF-Jasmine_Paolini-Cristina_Bucsa</th>\n      <th>1</th>\n      <td>0.944444</td>\n      <td>0.470588</td>\n    </tr>\n    <tr>\n      <th>2</th>\n      <td>0.833333</td>\n      <td>0.800000</td>\n    </tr>\n    <tr>\n      <th rowspan=\"2\" valign=\"top\">20161127-M-Davis_Cup_World_Group_F-RR-Marin_Cilic-Juan_Martin_Del_Potro</th>\n      <th>1</th>\n      <td>1.000000</td>\n      <td>0.375000</td>\n    </tr>\n    <tr>\n      <th>2</th>\n      <td>1.000000</td>\n      <td>0.545455</td>\n    </tr>\n    <tr>\n      <th rowspan=\"2\" valign=\"top\">20221123-M-Davis_Cup_Finals-QF-Marin_Cilic-Pablo_Carreno_Busta</th>\n      <th>1</th>\n      <td>0.740741</td>\n      <td>0.350000</td>\n    </tr>\n    <tr>\n      <th>2</th>\n      <td>0.857143</td>\n      <td>0.833333</td>\n    </tr>\n    <tr>\n      <th rowspan=\"2\" valign=\"top\">20221201-W-Andorra-R16-Cristina_Bucsa-Kateryna_Baindl</th>\n      <th>1</th>\n      <td>0.866667</td>\n      <td>0.461538</td>\n    </tr>\n    <tr>\n      <th>2</th>\n      <td>0.750000</td>\n      <td>0.333333</td>\n    </tr>\n  </tbody>\n</table>\n</div>"
     },
     "execution_count": 6,
     "metadata": {},
     "output_type": "execute_result"
    }
   ],
   "source": [
    "points_db = pd.concat((serve_stats[[\"x_1\", \"y_1\"]].rename(columns={\"x_1\": \"x\", \"y_1\": \"y\"}),\n",
    "                       serve_stats[[\"x_2\", \"y_2\"]].rename(columns={\"x_2\": \"x\", \"y_2\": \"y\"}),\n",
    "                       ),\n",
    "                      keys=[\"srv_1\", \"srv_2\"],\n",
    "                      copy=False)\n",
    "\n",
    "points_db"
   ],
   "metadata": {
    "collapsed": false,
    "ExecuteTime": {
     "end_time": "2023-05-25T09:40:01.940205Z",
     "start_time": "2023-05-25T09:40:01.861014Z"
    }
   }
  },
  {
   "cell_type": "code",
   "execution_count": 6,
   "outputs": [],
   "source": [],
   "metadata": {
    "collapsed": false,
    "ExecuteTime": {
     "end_time": "2023-05-25T09:40:01.940425Z",
     "start_time": "2023-05-25T09:40:01.861806Z"
    }
   }
  },
  {
   "cell_type": "code",
   "execution_count": 6,
   "outputs": [],
   "source": [],
   "metadata": {
    "collapsed": false,
    "ExecuteTime": {
     "end_time": "2023-05-25T09:40:01.940505Z",
     "start_time": "2023-05-25T09:40:01.861902Z"
    }
   }
  }
 ],
 "metadata": {
  "kernelspec": {
   "display_name": "Python 3",
   "language": "python",
   "name": "python3"
  },
  "language_info": {
   "codemirror_mode": {
    "name": "ipython",
    "version": 2
   },
   "file_extension": ".py",
   "mimetype": "text/x-python",
   "name": "python",
   "nbconvert_exporter": "python",
   "pygments_lexer": "ipython2",
   "version": "2.7.6"
  }
 },
 "nbformat": 4,
 "nbformat_minor": 0
}
